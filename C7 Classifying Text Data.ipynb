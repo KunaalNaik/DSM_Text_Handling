{
 "cells": [
  {
   "cell_type": "markdown",
   "metadata": {},
   "source": [
    "## 04_02 Preparing Data for Classification"
   ]
  },
  {
   "cell_type": "code",
   "execution_count": 7,
   "metadata": {},
   "outputs": [
    {
     "name": "stdout",
     "output_type": "stream",
     "text": [
      "Sample course descriptions : ['In this practical, hands-on course, learn how to do data preparation, data munging, data visualization, and predictive analytics. ', 'PHP is the most popular server-side language used to build dynamic websites, and though it is not especially difficult to use, nonprogrammers often find it intimidating. ']\n",
      "\n",
      "Sample feature names identified :  [\"'ll\", \"'re\", \"'s\", '(', ')', ',', '.', '?', 'actively', 'adopting', 'amazon', 'analysis', 'analytics', 'application', 'applied', 'architect', 'architecture', 'around', 'aspect', 'associate', 'aws', 'basic', 'become', 'begin', 'big']\n",
      "\n",
      "Size of TFIDF matrix :  (20, 240)\n"
     ]
    },
    {
     "name": "stderr",
     "output_type": "stream",
     "text": [
      "[nltk_data] Downloading package stopwords to\n",
      "[nltk_data]     C:\\Users\\kumar\\AppData\\Roaming\\nltk_data...\n",
      "[nltk_data]   Package stopwords is already up-to-date!\n",
      "[nltk_data] Downloading package wordnet to\n",
      "[nltk_data]     C:\\Users\\kumar\\AppData\\Roaming\\nltk_data...\n",
      "[nltk_data]   Package wordnet is already up-to-date!\n"
     ]
    }
   ],
   "source": [
    "#Read course descriptions\n",
    "with open(\"Course-Descriptions.txt\", 'r') as fh:  \n",
    "    descriptions = fh.read().splitlines()\n",
    "print(\"Sample course descriptions :\", descriptions[:2])\n",
    "\n",
    "#Setup stopwords\n",
    "import nltk\n",
    "nltk.download('stopwords')\n",
    "from nltk.corpus import stopwords\n",
    "\n",
    "#setup wordnet for lemmatization\n",
    "nltk.download('wordnet')\n",
    "from nltk.stem import WordNetLemmatizer\n",
    "lemmatizer = WordNetLemmatizer()\n",
    "\n",
    "from sklearn.feature_extraction.text import TfidfVectorizer\n",
    "\n",
    "#Custom tokenizer that will perform tokenization, stopword removal\n",
    "#and lemmatization\n",
    "def customtokenize(str):\n",
    "    tokens=nltk.word_tokenize(str)\n",
    "    nostop = list(filter(lambda token: token not in stopwords.words('english'), tokens))\n",
    "    lemmatized=[lemmatizer.lemmatize(word) for word in nostop ]\n",
    "    return lemmatized\n",
    "\n",
    "#Generate TFIDF matrix\n",
    "vectorizer = TfidfVectorizer(tokenizer=customtokenize)\n",
    "tfidf=vectorizer.fit_transform(descriptions)\n",
    "\n",
    "print(\"\\nSample feature names identified : \", vectorizer.get_feature_names()[:25])\n",
    "print(\"\\nSize of TFIDF matrix : \",tfidf.shape)\n"
   ]
  },
  {
   "cell_type": "markdown",
   "metadata": {},
   "source": [
    "## 04_03 Building the model"
   ]
  },
  {
   "cell_type": "code",
   "execution_count": 8,
   "metadata": {},
   "outputs": [
    {
     "name": "stdout",
     "output_type": "stream",
     "text": [
      "Classes found :  ['Cloud-Computing' 'Data-Science' 'Programming']\n",
      "\n",
      "Classes converted to integers : [1 2 2 0 1 2 1 2 0 1 1 2 2 0 2 0 0 0 2 2]\n"
     ]
    }
   ],
   "source": [
    "#Loading the pre-built classifications for training\n",
    "with open(\"Course-Classification.txt\", 'r') as fh:  \n",
    "    classifications = fh.read().splitlines()\n",
    "\n",
    "#Create Labels and integer classes\n",
    "from sklearn import preprocessing\n",
    "\n",
    "le = preprocessing.LabelEncoder()\n",
    "le.fit(classifications)\n",
    "print(\"Classes found : \", le.classes_)\n",
    "\n",
    "#Convert classes to integers for use with ML\n",
    "int_classes = le.transform(classifications)\n",
    "print(\"\\nClasses converted to integers :\", int_classes)\n",
    "\n",
    "from sklearn.model_selection import train_test_split\n",
    "from sklearn.naive_bayes import MultinomialNB\n",
    "\n",
    "#Split as training and testing sets\n",
    "xtrain, xtest, ytrain, ytest = train_test_split(tfidf, int_classes,random_state=0)\n",
    "\n",
    "#Build the model\n",
    "classifier= MultinomialNB().fit(xtrain, ytrain)\n"
   ]
  },
  {
   "cell_type": "markdown",
   "metadata": {},
   "source": [
    "## 04_04 Running Predictions"
   ]
  },
  {
   "cell_type": "code",
   "execution_count": 19,
   "metadata": {},
   "outputs": [
    {
     "name": "stdout",
     "output_type": "stream",
     "text": [
      "Testing with Test Data :\n",
      "------------------------\n",
      "Confusion Matrix : \n",
      "[[1 0 0]\n",
      " [0 0 1]\n",
      " [1 0 2]]\n",
      "\n",
      " Prediction Accuracy :  0.6\n",
      "\n",
      "Testing with Full Corpus :\n",
      "--------------------------\n",
      "Confusion Matrix : \n",
      "[[6 0 0]\n",
      " [0 4 1]\n",
      " [1 0 8]]\n",
      "\n",
      " Prediction Accuracy :  0.9\n"
     ]
    }
   ],
   "source": [
    "from sklearn import metrics\n",
    "\n",
    "print(\"Testing with Test Data :\\n------------------------\")\n",
    "#Predict on test data\n",
    "predictions=classifier.predict(xtest)\n",
    "print(\"Confusion Matrix : \")\n",
    "print(metrics.confusion_matrix(ytest, predictions))\n",
    "print(\"\\n Prediction Accuracy : \",  \\\n",
    "      metrics.accuracy_score(ytest, predictions) )\n",
    "\n",
    "print(\"\\nTesting with Full Corpus :\\n--------------------------\")\n",
    "#Predict on entire corpus data\n",
    "predictions=classifier.predict(tfidf)\n",
    "print(\"Confusion Matrix : \")\n",
    "print(metrics.confusion_matrix(int_classes, predictions))\n",
    "print(\"\\n Prediction Accuracy : \",  \\\n",
    "      metrics.accuracy_score(int_classes, predictions) )\n"
   ]
  },
  {
   "cell_type": "code",
   "execution_count": null,
   "metadata": {},
   "outputs": [],
   "source": []
  }
 ],
 "metadata": {
  "kernelspec": {
   "display_name": "Python 3",
   "language": "python",
   "name": "python3"
  },
  "language_info": {
   "codemirror_mode": {
    "name": "ipython",
    "version": 3
   },
   "file_extension": ".py",
   "mimetype": "text/x-python",
   "name": "python",
   "nbconvert_exporter": "python",
   "pygments_lexer": "ipython3",
   "version": "3.7.3"
  }
 },
 "nbformat": 4,
 "nbformat_minor": 2
}
