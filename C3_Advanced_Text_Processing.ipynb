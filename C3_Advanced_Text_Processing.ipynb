{
 "cells": [
  {
   "cell_type": "code",
   "execution_count": 1,
   "metadata": {},
   "outputs": [
    {
     "name": "stderr",
     "output_type": "stream",
     "text": [
      "[nltk_data] Downloading package punkt to\n",
      "[nltk_data]     C:\\Users\\DELL\\AppData\\Roaming\\nltk_data...\n",
      "[nltk_data]   Package punkt is already up-to-date!\n",
      "[nltk_data] Downloading package stopwords to\n",
      "[nltk_data]     C:\\Users\\DELL\\AppData\\Roaming\\nltk_data...\n",
      "[nltk_data]   Package stopwords is already up-to-date!\n",
      "[nltk_data] Downloading package wordnet to\n",
      "[nltk_data]     C:\\Users\\DELL\\AppData\\Roaming\\nltk_data...\n",
      "[nltk_data]   Package wordnet is already up-to-date!\n"
     ]
    },
    {
     "name": "stdout",
     "output_type": "stream",
     "text": [
      "\n",
      " Total Tokens :  79\n"
     ]
    }
   ],
   "source": [
    "#Prepare data for use in this exercise\n",
    "\n",
    "import nltk\n",
    "import os\n",
    "#Download punkt package, used part of the other commands\n",
    "nltk.download('punkt')\n",
    "\n",
    "#Read the base file into a token list\n",
    "base_file = open(os.getcwd()+ \"/data_science.txt\", 'rt')\n",
    "raw_text = base_file.read()\n",
    "base_file.close()\n",
    "\n",
    "#Execute the same pre-processing done in module 3\n",
    "token_list = nltk.word_tokenize(raw_text)\n",
    "\n",
    "token_list2 = list(filter(lambda token: nltk.tokenize.punkt.PunktToken(token).is_non_punct, token_list))\n",
    "\n",
    "token_list3=[word.lower() for word in token_list2 ]\n",
    "\n",
    "nltk.download('stopwords')\n",
    "from nltk.corpus import stopwords\n",
    "token_list4 = list(filter(lambda token: token not in stopwords.words('english'), token_list3))\n",
    "\n",
    "nltk.download('wordnet')\n",
    "from nltk.stem import WordNetLemmatizer\n",
    "lemmatizer = WordNetLemmatizer()\n",
    "token_list6 = [lemmatizer.lemmatize(word) for word in token_list4 ]\n",
    "\n",
    "print(\"\\n Total Tokens : \",len(token_list6))"
   ]
  },
  {
   "cell_type": "markdown",
   "metadata": {},
   "source": [
    "## 04_01 Build ngrams"
   ]
  },
  {
   "cell_type": "code",
   "execution_count": 2,
   "metadata": {},
   "outputs": [],
   "source": [
    "from nltk.util import ngrams\n",
    "from collections import Counter"
   ]
  },
  {
   "cell_type": "code",
   "execution_count": 3,
   "metadata": {},
   "outputs": [
    {
     "name": "stdout",
     "output_type": "stream",
     "text": [
      "Most common bigrams : \n",
      "[(('data', 'science'), 2), (('science', 'study'), 1), (('study', 'data'), 1), (('data', 'extract'), 1), (('extract', 'meaningful'), 1)]\n"
     ]
    }
   ],
   "source": [
    "#Find bigrams and print the most common 5\n",
    "bigrams = ngrams(token_list6,2)\n",
    "print(\"Most common bigrams : \")\n",
    "print(Counter(bigrams).most_common(5))"
   ]
  },
  {
   "cell_type": "code",
   "execution_count": 4,
   "metadata": {},
   "outputs": [
    {
     "name": "stdout",
     "output_type": "stream",
     "text": [
      " \n",
      " Most common trigrams : \n",
      "[(('data', 'science', 'study'), 1), (('science', 'study', 'data'), 1), (('study', 'data', 'extract'), 1), (('data', 'extract', 'meaningful'), 1), (('extract', 'meaningful', 'insight'), 1)]\n"
     ]
    }
   ],
   "source": [
    "#Find trigrams and print the most common 5\n",
    "trigrams = ngrams(token_list6,3)\n",
    "print(\" \\n Most common trigrams : \" )\n",
    "print(Counter(trigrams).most_common(5))"
   ]
  },
  {
   "cell_type": "markdown",
   "metadata": {},
   "source": [
    "## 04_02 Parts-of-Speech Tagging\n",
    "\n",
    "Some examples of Parts-of-Speech abbreviations:\n",
    "NN : noun\n",
    "NNS : noun plural\n",
    "VBP : Verb singular present."
   ]
  },
  {
   "cell_type": "code",
   "execution_count": 5,
   "metadata": {},
   "outputs": [
    {
     "name": "stderr",
     "output_type": "stream",
     "text": [
      "[nltk_data] Downloading package averaged_perceptron_tagger to\n",
      "[nltk_data]     C:\\Users\\DELL\\AppData\\Roaming\\nltk_data...\n",
      "[nltk_data]   Unzipping taggers\\averaged_perceptron_tagger.zip.\n"
     ]
    },
    {
     "data": {
      "text/plain": [
       "True"
      ]
     },
     "execution_count": 5,
     "metadata": {},
     "output_type": "execute_result"
    }
   ],
   "source": [
    "#download the tagger package\n",
    "nltk.download('averaged_perceptron_tagger')"
   ]
  },
  {
   "cell_type": "code",
   "execution_count": 6,
   "metadata": {},
   "outputs": [
    {
     "data": {
      "text/plain": [
       "[('data', 'NNS'),\n",
       " ('science', 'NN'),\n",
       " ('study', 'NN'),\n",
       " ('data', 'NNS'),\n",
       " ('extract', 'VBP'),\n",
       " ('meaningful', 'JJ'),\n",
       " ('insights', 'NNS'),\n",
       " ('business', 'NN'),\n",
       " ('multidisciplinary', 'JJ'),\n",
       " ('approach', 'NN')]"
      ]
     },
     "execution_count": 6,
     "metadata": {},
     "output_type": "execute_result"
    }
   ],
   "source": [
    "#Tag and print the first 10 tokens\n",
    "nltk.pos_tag(token_list4)[:10]"
   ]
  },
  {
   "cell_type": "markdown",
   "metadata": {},
   "source": [
    "## 04_04 Building TF-IDF matrix"
   ]
  },
  {
   "cell_type": "code",
   "execution_count": 7,
   "metadata": {},
   "outputs": [
    {
     "name": "stdout",
     "output_type": "stream",
     "text": [
      "Tokens used as features are : \n",
      "['america', 'basketball', 'league', 'nba', 'popular', 'telecast', 'tv']\n",
      "\n",
      " Size of array. Each row represents a document. Each column represents a feature/token\n",
      "(3, 7)\n",
      "\n",
      " Actual TF-IDF array\n"
     ]
    },
    {
     "name": "stderr",
     "output_type": "stream",
     "text": [
      "C:\\Users\\DELL\\anaconda3\\lib\\site-packages\\sklearn\\utils\\deprecation.py:87: FutureWarning: Function get_feature_names is deprecated; get_feature_names is deprecated in 1.0 and will be removed in 1.2. Please use get_feature_names_out instead.\n",
      "  warnings.warn(msg, category=FutureWarning)\n"
     ]
    },
    {
     "data": {
      "text/plain": [
       "array([[0.        , 0.38537163, 0.65249088, 0.65249088, 0.        ,\n",
       "        0.        , 0.        ],\n",
       "       [0.54783215, 0.42544054, 0.        , 0.        , 0.72033345,\n",
       "        0.        , 0.        ],\n",
       "       [0.44451431, 0.34520502, 0.        , 0.        , 0.        ,\n",
       "        0.5844829 , 0.5844829 ]])"
      ]
     },
     "execution_count": 7,
     "metadata": {},
     "output_type": "execute_result"
    }
   ],
   "source": [
    "#Use scikit-learn library\n",
    "from sklearn.feature_extraction.text import TfidfVectorizer\n",
    "import pandas as pd\n",
    "\n",
    "#Use a small corpus for each visualization\n",
    "vector_corpus = [\n",
    "    'NBA is a Basketball league',\n",
    "    'Basketball is popular in America.',\n",
    "    'TV in America telecast BasketBall.',\n",
    "]\n",
    "\n",
    "#Create a vectorizer for english language\n",
    "vectorizer = TfidfVectorizer(stop_words='english')\n",
    "\n",
    "#Create the vector\n",
    "tfidf=vectorizer.fit_transform(vector_corpus)\n",
    "\n",
    "print(\"Tokens used as features are : \")\n",
    "print(vectorizer.get_feature_names())\n",
    "\n",
    "print(\"\\n Size of array. Each row represents a document. Each column represents a feature/token\")\n",
    "print(tfidf.shape)\n",
    "\n",
    "print(\"\\n Actual TF-IDF array\")\n",
    "tfidf.toarray()\n"
   ]
  },
  {
   "cell_type": "code",
   "execution_count": null,
   "metadata": {},
   "outputs": [],
   "source": []
  }
 ],
 "metadata": {
  "kernelspec": {
   "display_name": "Python 3 (ipykernel)",
   "language": "python",
   "name": "python3"
  },
  "language_info": {
   "codemirror_mode": {
    "name": "ipython",
    "version": 3
   },
   "file_extension": ".py",
   "mimetype": "text/x-python",
   "name": "python",
   "nbconvert_exporter": "python",
   "pygments_lexer": "ipython3",
   "version": "3.9.13"
  }
 },
 "nbformat": 4,
 "nbformat_minor": 4
}
